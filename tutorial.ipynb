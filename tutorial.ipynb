{
 "cells": [
  {
   "cell_type": "markdown",
   "metadata": {},
   "source": [
    "The goal of this notebook is to provide an easy tutorial showcasing the different features of the BioFuzzNet module."
   ]
  },
  {
   "cell_type": "code",
   "execution_count": 20,
   "metadata": {},
   "outputs": [],
   "source": [
    "# Imports\n",
    "# External imports\n",
    "import torch\n",
    "import networkx as nx\n",
    "import numpy as np\n",
    "import matplotlib.pyplot as plt\n",
    "import pandas as pd\n",
    "import seaborn as sns\n",
    "\n",
    "# Module imports\n",
    "import biofuzznet.biofuzznet as biofuzznet\n",
    "import biofuzznet.biofuzzdataset as biofuzzdataset\n",
    "import biofuzznet.Hill_function as Hill_function\n",
    "import biofuzznet.utils as utils\n",
    "import biofuzznet.biomixnet as biomixnet"
   ]
  },
  {
   "cell_type": "markdown",
   "metadata": {},
   "source": [
    "# Building a BioFuzzNet or a BioMixNet\n",
    "\n",
    "## From scratch"
   ]
  },
  {
   "cell_type": "code",
   "execution_count": 12,
   "metadata": {},
   "outputs": [],
   "source": [
    "# Create an empty BioFuzzNet\n",
    "G_not = biofuzznet.BioFuzzNet(None, None)\n",
    "\n",
    "# Add nodes\n",
    "G_not.add_fuzzy_node(\"A\", \"BIO\") # A biological node\n",
    "G_not.add_fuzzy_node(\"B\", 'BIO')\n",
    "G_not.add_fuzzy_node(\"NOT A\", \"NOT\") # A logical not gate\n",
    "# Add edges\n",
    "G_not.add_transfer_edge(\"A\", \"NOT A\") # A transfer edge downstream of a biological node\n",
    "G_not.add_simple_edge(\"NOT A\", \"B\") # A simple edge downstream of a logical node"
   ]
  },
  {
   "cell_type": "code",
   "execution_count": 13,
   "metadata": {},
   "outputs": [],
   "source": [
    "# Creates a BioFuzzNet from a list of nodes and a list of edges\n",
    "# If a node has more than 2 incoming edges, it assumes those are integrated via an OR gate\n",
    "# This is the same network as above\n",
    "\n",
    "node_list = [\"A\", \"B\"]\n",
    "edge_dic = {(\"A\", \"B\"): -1}\n",
    "G_not_from_list = biofuzznet.BioFuzzNet(node_list, edge_dic)"
   ]
  },
  {
   "cell_type": "code",
   "execution_count": 14,
   "metadata": {},
   "outputs": [],
   "source": [
    "# Draw the networks to compare them\n",
    "# Color schemes for the drawing\n",
    "general_edge_color_scheme  = {\"simple\": \"b\", \"transfer_function\": \"r\"}\n",
    "general_node_shape_scheme = {\"biological\": 's', \"logic_gate_AND\": 'o', \"logic_gate_OR\": 'd', \"logic_gate_NOT\": '^'}\n",
    "\n"
   ]
  },
  {
   "cell_type": "code",
   "execution_count": 15,
   "metadata": {},
   "outputs": [
    {
     "data": {
      "text/plain": [
       "{'A': array([1.00000000e+00, 1.98682151e-08]),\n",
       " 'B': array([-0.50000007,  0.86602542]),\n",
       " 'NOT A': array([-0.49999993, -0.86602544])}"
      ]
     },
     "execution_count": 15,
     "metadata": {},
     "output_type": "execute_result"
    },
    {
     "data": {
      "image/png": "[encoded data removed]",
      "text/plain": [
       "<Figure size 640x480 with 1 Axes>"
      ]
     },
     "metadata": {},
     "output_type": "display_data"
    }
   ],
   "source": [
    "utils.draw_BioFuzzNet(G_not, general_edge_color_scheme, general_node_shape_scheme)  "
   ]
  },
  {
   "cell_type": "code",
   "execution_count": 16,
   "metadata": {},
   "outputs": [
    {
     "data": {
      "text/plain": [
       "{'A': array([1.00000000e+00, 1.98682151e-08]),\n",
       " 'B': array([-0.50000007,  0.86602542]),\n",
       " 'not1': array([-0.49999993, -0.86602544])}"
      ]
     },
     "execution_count": 16,
     "metadata": {},
     "output_type": "execute_result"
    },
    {
     "data": {
      "image/png": "[encoded data removed]",
      "text/plain": [
       "<Figure size 640x480 with 1 Axes>"
      ]
     },
     "metadata": {},
     "output_type": "display_data"
    }
   ],
   "source": [
    "utils.draw_BioFuzzNet(G_not_from_list, general_edge_color_scheme, general_node_shape_scheme)"
   ]
  },
  {
   "cell_type": "code",
   "execution_count": 18,
   "metadata": {},
   "outputs": [
    {
     "ename": "FileNotFoundError",
     "evalue": "[Errno 2] No such file or directory: 'example_networks/Network_without_GRN.tsv'",
     "output_type": "error",
     "traceback": [
      "\u001b[1;31m---------------------------------------------------------------------------\u001b[0m",
      "\u001b[1;31mFileNotFoundError\u001b[0m                         Traceback (most recent call last)",
      "\u001b[1;32mc:\\Users\\conny\\Documents\\ETH\\Master_Thesis\\biofuzznet\\tutorial.ipynb Cell 9\u001b[0m in \u001b[0;36m<cell line: 2>\u001b[1;34m()\u001b[0m\n\u001b[0;32m      <a href='vscode-notebook-cell:/c%3A/Users/conny/Documents/ETH/Master_Thesis/biofuzznet/tutorial.ipynb#X11sZmlsZQ%3D%3D?line=0'>1</a>\u001b[0m \u001b[39m# Create the BioFuzzNet from file\u001b[39;00m\n\u001b[1;32m----> <a href='vscode-notebook-cell:/c%3A/Users/conny/Documents/ETH/Master_Thesis/biofuzznet/tutorial.ipynb#X11sZmlsZQ%3D%3D?line=1'>2</a>\u001b[0m BFZ_from_file \u001b[39m=\u001b[39m biofuzznet\u001b[39m.\u001b[39;49mBioFuzzNet\u001b[39m.\u001b[39;49mbuild_BioFuzzNet_from_file(\u001b[39m\"\u001b[39;49m\u001b[39mexample_networks/Network_without_GRN.tsv\u001b[39;49m\u001b[39m\"\u001b[39;49m)\n",
      "File \u001b[1;32mc:\\Users\\conny\\Documents\\ETH\\Master_Thesis\\biofuzznet\\biofuzznet\\biofuzznet.py:312\u001b[0m, in \u001b[0;36mBioFuzzNet.build_BioFuzzNet_from_file\u001b[1;34m(cls, filepath)\u001b[0m\n\u001b[0;32m    300\u001b[0m \u001b[39m@classmethod\u001b[39m\n\u001b[0;32m    301\u001b[0m \u001b[39mdef\u001b[39;00m \u001b[39mbuild_BioFuzzNet_from_file\u001b[39m(\u001b[39mcls\u001b[39m, filepath: \u001b[39mstr\u001b[39m):\n\u001b[0;32m    302\u001b[0m     \u001b[39m\"\"\"\u001b[39;00m\n\u001b[0;32m    303\u001b[0m \u001b[39m    An alternate constructor to build the BioFuzzNet from the sif file instead of the lists of ndoes and edges.\u001b[39;00m\n\u001b[0;32m    304\u001b[0m \u001b[39m    AND gates should already be specified in the sif file, and should be named node1_and_node2 where node1 and node2 are the incoming nodes\u001b[39;00m\n\u001b[1;32m   (...)\u001b[0m\n\u001b[0;32m    310\u001b[0m \n\u001b[0;32m    311\u001b[0m \u001b[39m    \"\"\"\u001b[39;00m\n\u001b[1;32m--> 312\u001b[0m     nodes, edges \u001b[39m=\u001b[39m read_sif(filepath)\n\u001b[0;32m    313\u001b[0m     \u001b[39mreturn\u001b[39;00m BioFuzzNet(nodes, edges)\n",
      "File \u001b[1;32mc:\\Users\\conny\\Documents\\ETH\\Master_Thesis\\biofuzznet\\biofuzznet\\utils.py:27\u001b[0m, in \u001b[0;36mread_sif\u001b[1;34m(filepath)\u001b[0m\n\u001b[0;32m     25\u001b[0m node_names \u001b[39m=\u001b[39m []\n\u001b[0;32m     26\u001b[0m edges \u001b[39m=\u001b[39m {}\n\u001b[1;32m---> 27\u001b[0m sif_file \u001b[39m=\u001b[39m \u001b[39mopen\u001b[39;49m(filepath, \u001b[39m\"\u001b[39;49m\u001b[39mr\u001b[39;49m\u001b[39m\"\u001b[39;49m)\n\u001b[0;32m     28\u001b[0m line \u001b[39m=\u001b[39m sif_file\u001b[39m.\u001b[39mreadline()\n\u001b[0;32m     29\u001b[0m \u001b[39mwhile\u001b[39;00m line:\n",
      "\u001b[1;31mFileNotFoundError\u001b[0m: [Errno 2] No such file or directory: 'example_networks/Network_without_GRN.tsv'"
     ]
    }
   ],
   "source": [
    "# Create the BioFuzzNet from file\n",
    "BFZ_from_file = biofuzznet.BioFuzzNet.build_BioFuzzNet_from_file(\"example_networks/Network_without_GRN.tsv\")"
   ]
  },
  {
   "cell_type": "code",
   "execution_count": 19,
   "metadata": {},
   "outputs": [
    {
     "ename": "FileNotFoundError",
     "evalue": "[Errno 2] No such file or directory: 'example_networks/Network_without_GRN.tsv'",
     "output_type": "error",
     "traceback": [
      "\u001b[1;31m---------------------------------------------------------------------------\u001b[0m",
      "\u001b[1;31mFileNotFoundError\u001b[0m                         Traceback (most recent call last)",
      "\u001b[1;32mc:\\Users\\conny\\Documents\\ETH\\Master_Thesis\\biofuzznet\\tutorial.ipynb Cell 10\u001b[0m in \u001b[0;36m<cell line: 2>\u001b[1;34m()\u001b[0m\n\u001b[0;32m      <a href='vscode-notebook-cell:/c%3A/Users/conny/Documents/ETH/Master_Thesis/biofuzznet/tutorial.ipynb#X12sZmlsZQ%3D%3D?line=0'>1</a>\u001b[0m \u001b[39m# Create the BioMixNet from file\u001b[39;00m\n\u001b[1;32m----> <a href='vscode-notebook-cell:/c%3A/Users/conny/Documents/ETH/Master_Thesis/biofuzznet/tutorial.ipynb#X12sZmlsZQ%3D%3D?line=1'>2</a>\u001b[0m BMX \u001b[39m=\u001b[39m biomixnet\u001b[39m.\u001b[39;49mBioMixNet\u001b[39m.\u001b[39;49mbuild_BioMixNet_from_file(\u001b[39m\"\u001b[39;49m\u001b[39mexample_networks/Network_without_GRN.tsv\u001b[39;49m\u001b[39m\"\u001b[39;49m)\n",
      "File \u001b[1;32mc:\\Users\\conny\\Documents\\ETH\\Master_Thesis\\biofuzznet\\biofuzznet\\biomixnet.py:74\u001b[0m, in \u001b[0;36mBioMixNet.build_BioMixNet_from_file\u001b[1;34m(filepath)\u001b[0m\n\u001b[0;32m     63\u001b[0m \u001b[39mdef\u001b[39;00m \u001b[39mbuild_BioMixNet_from_file\u001b[39m(filepath: \u001b[39mstr\u001b[39m):\n\u001b[0;32m     64\u001b[0m     \u001b[39m\"\"\"\u001b[39;00m\n\u001b[0;32m     65\u001b[0m \u001b[39m    An alternate constructor to build the BioMixNet from the sif file instead of the lists of ndoes and edges.\u001b[39;00m\n\u001b[0;32m     66\u001b[0m \u001b[39m    AND gates should already be specified in the sif file, and should be named node1_and_node2 where node1 and node2 are the incoming nodes\u001b[39;00m\n\u001b[1;32m   (...)\u001b[0m\n\u001b[0;32m     72\u001b[0m \n\u001b[0;32m     73\u001b[0m \u001b[39m    \"\"\"\u001b[39;00m\n\u001b[1;32m---> 74\u001b[0m     nodes, edges \u001b[39m=\u001b[39m read_sif(filepath)\n\u001b[0;32m     75\u001b[0m     \u001b[39mreturn\u001b[39;00m BioMixNet(nodes, edges)\n",
      "File \u001b[1;32mc:\\Users\\conny\\Documents\\ETH\\Master_Thesis\\biofuzznet\\biofuzznet\\utils.py:27\u001b[0m, in \u001b[0;36mread_sif\u001b[1;34m(filepath)\u001b[0m\n\u001b[0;32m     25\u001b[0m node_names \u001b[39m=\u001b[39m []\n\u001b[0;32m     26\u001b[0m edges \u001b[39m=\u001b[39m {}\n\u001b[1;32m---> 27\u001b[0m sif_file \u001b[39m=\u001b[39m \u001b[39mopen\u001b[39;49m(filepath, \u001b[39m\"\u001b[39;49m\u001b[39mr\u001b[39;49m\u001b[39m\"\u001b[39;49m)\n\u001b[0;32m     28\u001b[0m line \u001b[39m=\u001b[39m sif_file\u001b[39m.\u001b[39mreadline()\n\u001b[0;32m     29\u001b[0m \u001b[39mwhile\u001b[39;00m line:\n",
      "\u001b[1;31mFileNotFoundError\u001b[0m: [Errno 2] No such file or directory: 'example_networks/Network_without_GRN.tsv'"
     ]
    }
   ],
   "source": [
    "# Create the BioMixNet from file\n",
    "BMX = biomixnet.BioMixNet.build_BioMixNet_from_file(\"example_networks/Network_without_GRN.tsv\")"
   ]
  },
  {
   "cell_type": "code",
   "execution_count": null,
   "metadata": {},
   "outputs": [
    {
     "data": {
      "text/plain": [
       "{'CD28': array([ 1.00000000e+00, -1.95514291e-09]),\n",
       " 'PI3K': array([0.99810332, 0.0615609 ]),\n",
       " 'Lck': array([0.99242049, 0.12288829]),\n",
       " 'Grb2': array([0.9829731 , 0.18374951]),\n",
       " 'GADS': array([0.96979696, 0.24391371]),\n",
       " 'Akt': array([0.95294201, 0.30315268]),\n",
       " 'AP1': array([0.93247223, 0.36124167]),\n",
       " 'ERK12': array([0.90846527, 0.41796034]),\n",
       " 'GSK3b': array([0.8810122 , 0.47309354]),\n",
       " 'CD3z': array([0.8502171 , 0.52643215]),\n",
       " 'PLCg1': array([0.81619692, 0.57777387]),\n",
       " 'MAPK': array([0.77908057, 0.6269238 ]),\n",
       " 'mTOR': array([0.7390089 , 0.67369562]),\n",
       " 'Bad': array([0.69613391, 0.7179119 ]),\n",
       " 'cNFkB': array([0.65061831, 0.7594049 ]),\n",
       " 'NFAT': array([0.60263467, 0.7980172 ]),\n",
       " 'p38': array([0.55236501, 0.83360237]),\n",
       " 'Bcl2': array([0.49999997, 0.86602545]),\n",
       " 'BclXL': array([0.44573835, 0.8951633 ]),\n",
       " 'NFkB': array([0.38978586, 0.92090553]),\n",
       " 'IL2': array([0.33235481, 0.94315445]),\n",
       " '41BB': array([0.27366298, 0.96182567]),\n",
       " 'TRAF1': array([0.21393308, 0.9768483 ]),\n",
       " 'TRAF2': array([0.15339166, 0.9881655 ]),\n",
       " 'TRAF3': array([0.09226837, 0.99573415]),\n",
       " 'TRAF1_and_TRAF2': array([0.03079507, 0.99952572]),\n",
       " 'TRAF2_and_TRAF3': array([-0.03079504,  0.99952572]),\n",
       " 'ncNFkB': array([-0.09226834,  0.99573415]),\n",
       " 'CD40': array([-0.15339163,  0.9881655 ]),\n",
       " 'TRAF6': array([-0.21393305,  0.9768483 ]),\n",
       " 'JAK3': array([-0.27366292,  0.96182567]),\n",
       " 'STAT5': array([-0.33235475,  0.94315445]),\n",
       " 'TNFa': array([-0.38978583,  0.92090553]),\n",
       " 'IL6': array([-0.44573829,  0.8951633 ]),\n",
       " 'IFNG': array([-0.50000006,  0.86602539]),\n",
       " 'STAT3_and_STAT5': array([-0.55236495,  0.83360243]),\n",
       " 'CTLA4': array([-0.60263467,  0.7980172 ]),\n",
       " 'PP2A': array([-0.65061826,  0.75940496]),\n",
       " 'SHP2': array([-0.69613397,  0.7179119 ]),\n",
       " 'SHP1': array([-0.73900884,  0.67369574]),\n",
       " 'IL15Ra': array([-0.77908057,  0.6269238 ]),\n",
       " 'Shc': array([-0.81619686,  0.57777393]),\n",
       " 'JAK1': array([-0.8502171 ,  0.52643215]),\n",
       " 'STAT3': array([-0.88101214,  0.47309366]),\n",
       " 'cmyc': array([-0.90846527,  0.41796034]),\n",
       " 'CD45': array([-0.93247217,  0.36124179]),\n",
       " 'not1': array([-0.95294201,  0.30315268]),\n",
       " 'not2': array([-0.96979696,  0.2439136 ]),\n",
       " 'not3': array([-0.9829731 ,  0.18374952]),\n",
       " 'not4': array([-0.99242049,  0.12288819]),\n",
       " 'not5': array([-0.99810332,  0.06156093]),\n",
       " 'not6': array([-1.00000000e+00, -8.93779195e-08]),\n",
       " 'not7': array([-0.99810332, -0.06156087]),\n",
       " 'not8': array([-0.99242049, -0.12288837]),\n",
       " 'not9': array([-0.9829731 , -0.18374947]),\n",
       " 'not10': array([-0.9697969 , -0.24391379]),\n",
       " 'not11': array([-0.95294201, -0.30315262]),\n",
       " 'not12': array([-0.93247223, -0.36124173]),\n",
       " 'not13': array([-0.90846533, -0.41796029]),\n",
       " 'not14': array([-0.88101214, -0.4730936 ]),\n",
       " 'not15': array([-0.85021716, -0.5264321 ]),\n",
       " 'not16': array([-0.81619692, -0.57777387]),\n",
       " 'not17': array([-0.77908063, -0.62692374]),\n",
       " 'or1': array([-0.7390089 , -0.67369563]),\n",
       " 'or2': array([-0.69613403, -0.71791184]),\n",
       " 'or3': array([-0.65061831, -0.7594049 ]),\n",
       " 'or4': array([-0.60263473, -0.79801715]),\n",
       " 'or5': array([-0.55236518, -0.83360225]),\n",
       " 'or6': array([-0.49999991, -0.86602545]),\n",
       " 'or7': array([-0.44573838, -0.8951633 ]),\n",
       " 'or8': array([-0.389786  , -0.92090547]),\n",
       " 'or9': array([-0.33235461, -0.94315452]),\n",
       " 'or10': array([-0.27366289, -0.96182567]),\n",
       " 'or11': array([-0.21393311, -0.97684831]),\n",
       " 'or12': array([-0.15339181, -0.98816544]),\n",
       " 'or13': array([-0.09226816, -0.99573422]),\n",
       " 'or14': array([-0.03079499, -0.99952573]),\n",
       " 'or15': array([ 0.03079501, -0.99952573]),\n",
       " 'or16': array([ 0.09226819, -0.99573422]),\n",
       " 'or17': array([ 0.15339184, -0.98816544]),\n",
       " 'or18': array([ 0.21393314, -0.97684831]),\n",
       " 'or19': array([ 0.27366289, -0.96182567]),\n",
       " 'or20': array([ 0.33235461, -0.94315452]),\n",
       " 'or21': array([ 0.38978601, -0.92090547]),\n",
       " 'or22': array([ 0.44573838, -0.8951633 ]),\n",
       " 'or23': array([ 0.49999991, -0.86602545]),\n",
       " 'or24': array([ 0.55236477, -0.83360249]),\n",
       " 'or25': array([ 0.60263473, -0.79801715]),\n",
       " 'or26': array([ 0.65061831, -0.7594049 ]),\n",
       " 'or27': array([ 0.69613385, -0.71791202]),\n",
       " 'or28': array([ 0.73900872, -0.6736958 ]),\n",
       " 'or29': array([ 0.77908063, -0.62692374]),\n",
       " 'or30': array([ 0.81619692, -0.57777387]),\n",
       " 'or31': array([ 0.85021704, -0.52643228]),\n",
       " 'or32': array([ 0.88101232, -0.47309336]),\n",
       " 'or33': array([ 0.90846533, -0.41796026]),\n",
       " 'or34': array([ 0.93247223, -0.3612417 ]),\n",
       " 'or35': array([ 0.95294195, -0.30315283]),\n",
       " 'or36': array([ 0.96979702, -0.24391353]),\n",
       " 'or37': array([ 0.9829731 , -0.18374944]),\n",
       " 'or38': array([ 0.99242049, -0.12288835]),\n",
       " 'or39': array([ 0.99810332, -0.06156108])}"
      ]
     },
     "execution_count": 9,
     "metadata": {},
     "output_type": "execute_result"
    },
    {
     "data": {
      "image/png": "[encoded data removed]",
      "text/plain": [
       "<Figure size 432x288 with 1 Axes>"
      ]
     },
     "metadata": {},
     "output_type": "display_data"
    }
   ],
   "source": [
    "# You can also draw BioMixNet with the draw_BioFuzzNet function\n",
    "# But this one is big so it won't look good\n",
    "utils.draw_BioFuzzNet(BMX, general_edge_color_scheme, general_node_shape_scheme)"
   ]
  },
  {
   "cell_type": "code",
   "execution_count": null,
   "metadata": {},
   "outputs": [
    {
     "data": {
      "text/plain": [
       "{'node_type': 'biological', 'output_state': None, 'ground_truth': None}"
      ]
     },
     "execution_count": 10,
     "metadata": {},
     "output_type": "execute_result"
    }
   ],
   "source": [
    "# This is what a biological node looks like\n",
    "BFZ_from_file.nodes()[\"41BB\"]"
   ]
  },
  {
   "cell_type": "code",
   "execution_count": null,
   "metadata": {},
   "outputs": [
    {
     "data": {
      "text/plain": [
       "{'node_type': 'logic_gate_OR', 'output_state': None}"
      ]
     },
     "execution_count": 11,
     "metadata": {},
     "output_type": "execute_result"
    }
   ],
   "source": [
    "# This is what a logical node looks like\n",
    "BFZ_from_file.nodes()[\"or1\"]"
   ]
  },
  {
   "cell_type": "code",
   "execution_count": null,
   "metadata": {},
   "outputs": [
    {
     "data": {
      "text/plain": [
       "{'edge_type': 'transfer_function',\n",
       " 'layer': HillTransferFunction(),\n",
       " 'weight': 1}"
      ]
     },
     "execution_count": 12,
     "metadata": {},
     "output_type": "execute_result"
    }
   ],
   "source": [
    "# This is what a transfer edge looks like\n",
    "BFZ_from_file.edges()[(\"CD28\", \"GADS\")]"
   ]
  },
  {
   "cell_type": "markdown",
   "metadata": {},
   "source": [
    "# Simulating a BioFuzzNet"
   ]
  },
  {
   "cell_type": "code",
   "execution_count": null,
   "metadata": {},
   "outputs": [],
   "source": [
    "# Let's use the CAR domain signalling network\n",
    "my_model = biofuzznet.BioFuzzNet.build_BioFuzzNet_from_file(\"example_networks/Network_without_GRN.tsv\")"
   ]
  },
  {
   "cell_type": "code",
   "execution_count": null,
   "metadata": {},
   "outputs": [
    {
     "name": "stdout",
     "output_type": "stream",
     "text": [
      "The edge ('CD28', 'GADS') has parameter n = tensor([1.2795], grad_fn=<ExpBackward0>) and K = tensor([0.3644], grad_fn=<SigmoidBackward0>)\n",
      "The edge ('CD28', 'or1') has parameter n = tensor([1.7643], grad_fn=<ExpBackward0>) and K = tensor([0.5946], grad_fn=<SigmoidBackward0>)\n",
      "The edge ('CD28', 'or5') has parameter n = tensor([0.6274], grad_fn=<ExpBackward0>) and K = tensor([0.0288], grad_fn=<SigmoidBackward0>)\n",
      "The edge ('CD28', 'or6') has parameter n = tensor([0.7422], grad_fn=<ExpBackward0>) and K = tensor([0.3136], grad_fn=<SigmoidBackward0>)\n",
      "The edge ('PI3K', 'not1') has parameter n = tensor([1.1138], grad_fn=<ExpBackward0>) and K = tensor([0.2010], grad_fn=<SigmoidBackward0>)\n",
      "The edge ('PI3K', 'or8') has parameter n = tensor([0.4843], grad_fn=<ExpBackward0>) and K = tensor([0.2126], grad_fn=<SigmoidBackward0>)\n",
      "The edge ('PI3K', 'or9') has parameter n = tensor([0.9269], grad_fn=<ExpBackward0>) and K = tensor([0.4156], grad_fn=<SigmoidBackward0>)\n",
      "The edge ('Lck', 'not2') has parameter n = tensor([0.7196], grad_fn=<ExpBackward0>) and K = tensor([0.2138], grad_fn=<SigmoidBackward0>)\n",
      "The edge ('Lck', 'or18') has parameter n = tensor([0.3667], grad_fn=<ExpBackward0>) and K = tensor([0.8091], grad_fn=<SigmoidBackward0>)\n",
      "The edge ('Grb2', 'or1') has parameter n = tensor([0.8155], grad_fn=<ExpBackward0>) and K = tensor([0.3969], grad_fn=<SigmoidBackward0>)\n",
      "The edge ('Grb2', 'or22') has parameter n = tensor([1.0570], grad_fn=<ExpBackward0>) and K = tensor([0.3468], grad_fn=<SigmoidBackward0>)\n",
      "The edge ('Grb2', 'or23') has parameter n = tensor([0.5570], grad_fn=<ExpBackward0>) and K = tensor([0.5076], grad_fn=<SigmoidBackward0>)\n",
      "The edge ('Akt', 'mTOR') has parameter n = tensor([1.4790], grad_fn=<ExpBackward0>) and K = tensor([0.2802], grad_fn=<SigmoidBackward0>)\n",
      "The edge ('Akt', 'not3') has parameter n = tensor([0.5887], grad_fn=<ExpBackward0>) and K = tensor([0.5589], grad_fn=<SigmoidBackward0>)\n",
      "The edge ('Akt', 'not4') has parameter n = tensor([2.6732], grad_fn=<ExpBackward0>) and K = tensor([0.4096], grad_fn=<SigmoidBackward0>)\n",
      "The edge ('Akt', 'or26') has parameter n = tensor([0.8337], grad_fn=<ExpBackward0>) and K = tensor([0.2936], grad_fn=<SigmoidBackward0>)\n",
      "The edge ('ERK12', 'or10') has parameter n = tensor([0.9531], grad_fn=<ExpBackward0>) and K = tensor([0.5348], grad_fn=<SigmoidBackward0>)\n",
      "The edge ('GSK3b', 'not5') has parameter n = tensor([1.1552], grad_fn=<ExpBackward0>) and K = tensor([0.4499], grad_fn=<SigmoidBackward0>)\n",
      "The edge ('CD3z', 'or6') has parameter n = tensor([0.8420], grad_fn=<ExpBackward0>) and K = tensor([0.5502], grad_fn=<SigmoidBackward0>)\n",
      "The edge ('CD3z', 'or22') has parameter n = tensor([3.3917], grad_fn=<ExpBackward0>) and K = tensor([0.6154], grad_fn=<SigmoidBackward0>)\n",
      "The edge ('CD3z', 'or32') has parameter n = tensor([0.0695], grad_fn=<ExpBackward0>) and K = tensor([0.4330], grad_fn=<SigmoidBackward0>)\n",
      "The edge ('PLCg1', 'or26') has parameter n = tensor([1.6766], grad_fn=<ExpBackward0>) and K = tensor([0.6834], grad_fn=<SigmoidBackward0>)\n",
      "The edge ('PLCg1', 'or29') has parameter n = tensor([0.7887], grad_fn=<ExpBackward0>) and K = tensor([0.5140], grad_fn=<SigmoidBackward0>)\n",
      "The edge ('MAPK', 'or9') has parameter n = tensor([3.9468], grad_fn=<ExpBackward0>) and K = tensor([0.1037], grad_fn=<SigmoidBackward0>)\n",
      "The edge ('MAPK', 'or14') has parameter n = tensor([0.6630], grad_fn=<ExpBackward0>) and K = tensor([0.6722], grad_fn=<SigmoidBackward0>)\n",
      "The edge ('MAPK', 'or32') has parameter n = tensor([0.8022], grad_fn=<ExpBackward0>) and K = tensor([0.3706], grad_fn=<SigmoidBackward0>)\n",
      "The edge ('Bad', 'not6') has parameter n = tensor([2.8478], grad_fn=<ExpBackward0>) and K = tensor([0.2639], grad_fn=<SigmoidBackward0>)\n",
      "The edge ('Bad', 'not7') has parameter n = tensor([0.7944], grad_fn=<ExpBackward0>) and K = tensor([0.4679], grad_fn=<SigmoidBackward0>)\n",
      "The edge ('cNFkB', 'or35') has parameter n = tensor([2.7676], grad_fn=<ExpBackward0>) and K = tensor([0.3479], grad_fn=<SigmoidBackward0>)\n",
      "The edge ('p38', 'or30') has parameter n = tensor([3.2050], grad_fn=<ExpBackward0>) and K = tensor([0.1785], grad_fn=<SigmoidBackward0>)\n",
      "The edge ('NFkB', 'IL2') has parameter n = tensor([1.1904], grad_fn=<ExpBackward0>) and K = tensor([0.2898], grad_fn=<SigmoidBackward0>)\n",
      "The edge ('NFkB', 'or34') has parameter n = tensor([0.9603], grad_fn=<ExpBackward0>) and K = tensor([0.2488], grad_fn=<SigmoidBackward0>)\n",
      "The edge ('41BB', 'TRAF1') has parameter n = tensor([1.4105], grad_fn=<ExpBackward0>) and K = tensor([0.1007], grad_fn=<SigmoidBackward0>)\n",
      "The edge ('41BB', 'or2') has parameter n = tensor([0.4202], grad_fn=<ExpBackward0>) and K = tensor([0.2874], grad_fn=<SigmoidBackward0>)\n",
      "The edge ('41BB', 'or37') has parameter n = tensor([4.5220], grad_fn=<ExpBackward0>) and K = tensor([0.2377], grad_fn=<SigmoidBackward0>)\n",
      "The edge ('41BB', 'or38') has parameter n = tensor([0.5865], grad_fn=<ExpBackward0>) and K = tensor([0.4344], grad_fn=<SigmoidBackward0>)\n",
      "The edge ('TRAF1', 'TRAF1_and_TRAF2') has parameter n = tensor([2.5849], grad_fn=<ExpBackward0>) and K = tensor([0.2648], grad_fn=<SigmoidBackward0>)\n",
      "The edge ('TRAF2', 'TRAF1_and_TRAF2') has parameter n = tensor([2.2693], grad_fn=<ExpBackward0>) and K = tensor([0.6913], grad_fn=<SigmoidBackward0>)\n",
      "The edge ('TRAF2', 'TRAF2_and_TRAF3') has parameter n = tensor([0.5890], grad_fn=<ExpBackward0>) and K = tensor([0.5275], grad_fn=<SigmoidBackward0>)\n",
      "The edge ('TRAF2', 'or8') has parameter n = tensor([1.2189], grad_fn=<ExpBackward0>) and K = tensor([0.3215], grad_fn=<SigmoidBackward0>)\n",
      "The edge ('TRAF2', 'or23') has parameter n = tensor([0.4293], grad_fn=<ExpBackward0>) and K = tensor([0.2620], grad_fn=<SigmoidBackward0>)\n",
      "The edge ('TRAF3', 'TRAF2_and_TRAF3') has parameter n = tensor([0.3550], grad_fn=<ExpBackward0>) and K = tensor([0.4002], grad_fn=<SigmoidBackward0>)\n",
      "The edge ('ncNFkB', 'or35') has parameter n = tensor([1.0541], grad_fn=<ExpBackward0>) and K = tensor([0.1502], grad_fn=<SigmoidBackward0>)\n",
      "The edge ('CD40', 'TRAF6') has parameter n = tensor([0.4231], grad_fn=<ExpBackward0>) and K = tensor([0.4135], grad_fn=<SigmoidBackward0>)\n",
      "The edge ('CD40', 'or37') has parameter n = tensor([1.0484], grad_fn=<ExpBackward0>) and K = tensor([0.2862], grad_fn=<SigmoidBackward0>)\n",
      "The edge ('CD40', 'or38') has parameter n = tensor([2.9248], grad_fn=<ExpBackward0>) and K = tensor([0.4960], grad_fn=<SigmoidBackward0>)\n",
      "The edge ('CD40', 'or39') has parameter n = tensor([4.8234], grad_fn=<ExpBackward0>) and K = tensor([0.2654], grad_fn=<SigmoidBackward0>)\n",
      "The edge ('TRAF6', 'or3') has parameter n = tensor([1.8987], grad_fn=<ExpBackward0>) and K = tensor([0.3393], grad_fn=<SigmoidBackward0>)\n",
      "The edge ('TRAF6', 'or25') has parameter n = tensor([1.4836], grad_fn=<ExpBackward0>) and K = tensor([0.3782], grad_fn=<SigmoidBackward0>)\n",
      "The edge ('TRAF6', 'or28') has parameter n = tensor([0.9711], grad_fn=<ExpBackward0>) and K = tensor([0.3270], grad_fn=<SigmoidBackward0>)\n",
      "The edge ('JAK3', 'STAT5') has parameter n = tensor([1.0310], grad_fn=<ExpBackward0>) and K = tensor([0.6495], grad_fn=<SigmoidBackward0>)\n",
      "The edge ('STAT5', 'TNFa') has parameter n = tensor([3.8733], grad_fn=<ExpBackward0>) and K = tensor([0.4108], grad_fn=<SigmoidBackward0>)\n",
      "The edge ('STAT5', 'IL6') has parameter n = tensor([0.3664], grad_fn=<ExpBackward0>) and K = tensor([0.5942], grad_fn=<SigmoidBackward0>)\n",
      "The edge ('STAT5', 'IFNG') has parameter n = tensor([0.2466], grad_fn=<ExpBackward0>) and K = tensor([0.3033], grad_fn=<SigmoidBackward0>)\n",
      "The edge ('STAT5', 'STAT3_and_STAT5') has parameter n = tensor([0.8296], grad_fn=<ExpBackward0>) and K = tensor([0.1420], grad_fn=<SigmoidBackward0>)\n",
      "The edge ('CTLA4', 'not8') has parameter n = tensor([0.9785], grad_fn=<ExpBackward0>) and K = tensor([0.3933], grad_fn=<SigmoidBackward0>)\n",
      "The edge ('CTLA4', 'PP2A') has parameter n = tensor([0.9135], grad_fn=<ExpBackward0>) and K = tensor([0.2155], grad_fn=<SigmoidBackward0>)\n",
      "The edge ('CTLA4', 'SHP2') has parameter n = tensor([0.4255], grad_fn=<ExpBackward0>) and K = tensor([0.1746], grad_fn=<SigmoidBackward0>)\n",
      "The edge ('CTLA4', 'not9') has parameter n = tensor([0.9661], grad_fn=<ExpBackward0>) and K = tensor([0.3671], grad_fn=<SigmoidBackward0>)\n",
      "The edge ('CTLA4', 'not10') has parameter n = tensor([1.9322], grad_fn=<ExpBackward0>) and K = tensor([0.3170], grad_fn=<SigmoidBackward0>)\n",
      "The edge ('CTLA4', 'not11') has parameter n = tensor([0.7622], grad_fn=<ExpBackward0>) and K = tensor([0.0900], grad_fn=<SigmoidBackward0>)\n",
      "The edge ('CTLA4', 'SHP1') has parameter n = tensor([0.8678], grad_fn=<ExpBackward0>) and K = tensor([0.4249], grad_fn=<SigmoidBackward0>)\n",
      "The edge ('CTLA4', 'or4') has parameter n = tensor([0.6995], grad_fn=<ExpBackward0>) and K = tensor([0.4667], grad_fn=<SigmoidBackward0>)\n",
      "The edge ('PP2A', 'not12') has parameter n = tensor([0.7785], grad_fn=<ExpBackward0>) and K = tensor([0.3277], grad_fn=<SigmoidBackward0>)\n",
      "The edge ('PP2A', 'not13') has parameter n = tensor([0.6072], grad_fn=<ExpBackward0>) and K = tensor([0.4881], grad_fn=<SigmoidBackward0>)\n",
      "The edge ('PP2A', 'not14') has parameter n = tensor([1.0634], grad_fn=<ExpBackward0>) and K = tensor([0.2186], grad_fn=<SigmoidBackward0>)\n",
      "The edge ('SHP2', 'not15') has parameter n = tensor([1.2173], grad_fn=<ExpBackward0>) and K = tensor([0.8225], grad_fn=<SigmoidBackward0>)\n",
      "The edge ('SHP2', 'not16') has parameter n = tensor([1.4084], grad_fn=<ExpBackward0>) and K = tensor([0.0968], grad_fn=<SigmoidBackward0>)\n",
      "The edge ('SHP1', 'not17') has parameter n = tensor([0.9999], grad_fn=<ExpBackward0>) and K = tensor([0.2638], grad_fn=<SigmoidBackward0>)\n",
      "The edge ('IL15Ra', 'Shc') has parameter n = tensor([0.0816], grad_fn=<ExpBackward0>) and K = tensor([0.3018], grad_fn=<SigmoidBackward0>)\n",
      "The edge ('IL15Ra', 'JAK1') has parameter n = tensor([0.2923], grad_fn=<ExpBackward0>) and K = tensor([0.5208], grad_fn=<SigmoidBackward0>)\n",
      "The edge ('IL15Ra', 'or39') has parameter n = tensor([0.6227], grad_fn=<ExpBackward0>) and K = tensor([0.2761], grad_fn=<SigmoidBackward0>)\n",
      "The edge ('Shc', 'or7') has parameter n = tensor([2.9406], grad_fn=<ExpBackward0>) and K = tensor([0.1300], grad_fn=<SigmoidBackward0>)\n",
      "The edge ('JAK1', 'STAT3') has parameter n = tensor([1.2956], grad_fn=<ExpBackward0>) and K = tensor([0.4595], grad_fn=<SigmoidBackward0>)\n",
      "The edge ('STAT3', 'STAT3_and_STAT5') has parameter n = tensor([1.7467], grad_fn=<ExpBackward0>) and K = tensor([0.6844], grad_fn=<SigmoidBackward0>)\n",
      "The edge ('CD45', 'or5') has parameter n = tensor([2.0534], grad_fn=<ExpBackward0>) and K = tensor([0.4919], grad_fn=<SigmoidBackward0>)\n"
     ]
    }
   ],
   "source": [
    "# It is initialised with random transfer function parameters\n",
    "for edge in my_model.transfer_edges:\n",
    "    # Each transfer edge has a layer\n",
    "    layer = my_model.edges()[edge][\"layer\"]\n",
    "    # Each layer has a n and an K parameter\n",
    "    print(f\"The edge {edge} has parameter n = {torch.exp(layer.n)} and K = {torch.sigmoid(layer.K)}\")\n",
    "    # Those parameters are torch.nn.Parameters and thus have a grad_fn which corresponds to their gradient"
   ]
  },
  {
   "cell_type": "code",
   "execution_count": null,
   "metadata": {},
   "outputs": [
    {
     "data": {
      "text/plain": [
       "['CD28', '41BB', 'CD40', 'CTLA4', 'IL15Ra', 'CD45']"
      ]
     },
     "execution_count": 15,
     "metadata": {},
     "output_type": "execute_result"
    }
   ],
   "source": [
    "# What are its root nodes?\n",
    "my_model.root_nodes"
   ]
  },
  {
   "cell_type": "code",
   "execution_count": null,
   "metadata": {},
   "outputs": [
    {
     "name": "stdout",
     "output_type": "stream",
     "text": [
      "The current output state at node 41BB is None and the current ground truth is None\n"
     ]
    }
   ],
   "source": [
    "# Currently the network has None values at the output state and ground truth tensors\n",
    "print(f\"The current output state at node 41BB is {my_model.nodes()['41BB']['output_state']} and the current ground truth is {my_model.nodes()['41BB']['ground_truth']}\")"
   ]
  },
  {
   "cell_type": "code",
   "execution_count": null,
   "metadata": {},
   "outputs": [
    {
     "name": "stdout",
     "output_type": "stream",
     "text": [
      "The current output state at node 41BB is tensor([0.1570, 0.2224, 0.8546,  ..., 0.4351, 0.7351, 0.9273]) and the current ground truth is tensor([0.9432, 0.9587, 0.6920,  ..., 0.6303, 0.0476, 0.6811])\n"
     ]
    }
   ],
   "source": [
    "# We can give both of those fields a random value\n",
    "my_model.initialise_random_truth_and_output(3000)\n",
    "print(f\"The current output state at node 41BB is {my_model.nodes()['41BB']['output_state']} and the current ground truth is {my_model.nodes()['41BB']['ground_truth']}\")"
   ]
  },
  {
   "cell_type": "code",
   "execution_count": null,
   "metadata": {},
   "outputs": [
    {
     "name": "stdout",
     "output_type": "stream",
     "text": [
      "The current output state at node 41BB is tensor([1., 1., 1.,  ..., 1., 1., 1.]) and the current ground truth is tensor([1., 1., 1.,  ..., 1., 1., 1.])\n",
      "The current output state at node ERK12 is tensor([0.0317, 0.6378, 0.0873,  ..., 0.0868, 0.3627, 0.2655]) and the current ground truth is tensor([0.4571, 0.9993, 0.1055,  ..., 0.0026, 0.5225, 0.3733])\n"
     ]
    },
    {
     "name": "stderr",
     "output_type": "stream",
     "text": [
      "/home/ubuntu/storage/BioNICs/bionics/biofuzznet/biofuzznet.py:362: UserWarning: Node PI3K is not present in ground truth. Its ground_truth value is not set.\n",
      "  warnings.warn(\n",
      "/home/ubuntu/storage/BioNICs/bionics/biofuzznet/biofuzznet.py:362: UserWarning: Node Lck is not present in ground truth. Its ground_truth value is not set.\n",
      "  warnings.warn(\n",
      "/home/ubuntu/storage/BioNICs/bionics/biofuzznet/biofuzznet.py:362: UserWarning: Node Grb2 is not present in ground truth. Its ground_truth value is not set.\n",
      "  warnings.warn(\n",
      "/home/ubuntu/storage/BioNICs/bionics/biofuzznet/biofuzznet.py:362: UserWarning: Node GADS is not present in ground truth. Its ground_truth value is not set.\n",
      "  warnings.warn(\n",
      "/home/ubuntu/storage/BioNICs/bionics/biofuzznet/biofuzznet.py:362: UserWarning: Node Akt is not present in ground truth. Its ground_truth value is not set.\n",
      "  warnings.warn(\n",
      "/home/ubuntu/storage/BioNICs/bionics/biofuzznet/biofuzznet.py:362: UserWarning: Node AP1 is not present in ground truth. Its ground_truth value is not set.\n",
      "  warnings.warn(\n",
      "/home/ubuntu/storage/BioNICs/bionics/biofuzznet/biofuzznet.py:362: UserWarning: Node ERK12 is not present in ground truth. Its ground_truth value is not set.\n",
      "  warnings.warn(\n",
      "/home/ubuntu/storage/BioNICs/bionics/biofuzznet/biofuzznet.py:362: UserWarning: Node GSK3b is not present in ground truth. Its ground_truth value is not set.\n",
      "  warnings.warn(\n",
      "/home/ubuntu/storage/BioNICs/bionics/biofuzznet/biofuzznet.py:362: UserWarning: Node CD3z is not present in ground truth. Its ground_truth value is not set.\n",
      "  warnings.warn(\n",
      "/home/ubuntu/storage/BioNICs/bionics/biofuzznet/biofuzznet.py:362: UserWarning: Node PLCg1 is not present in ground truth. Its ground_truth value is not set.\n",
      "  warnings.warn(\n",
      "/home/ubuntu/storage/BioNICs/bionics/biofuzznet/biofuzznet.py:362: UserWarning: Node MAPK is not present in ground truth. Its ground_truth value is not set.\n",
      "  warnings.warn(\n",
      "/home/ubuntu/storage/BioNICs/bionics/biofuzznet/biofuzznet.py:362: UserWarning: Node mTOR is not present in ground truth. Its ground_truth value is not set.\n",
      "  warnings.warn(\n",
      "/home/ubuntu/storage/BioNICs/bionics/biofuzznet/biofuzznet.py:362: UserWarning: Node Bad is not present in ground truth. Its ground_truth value is not set.\n",
      "  warnings.warn(\n",
      "/home/ubuntu/storage/BioNICs/bionics/biofuzznet/biofuzznet.py:362: UserWarning: Node cNFkB is not present in ground truth. Its ground_truth value is not set.\n",
      "  warnings.warn(\n",
      "/home/ubuntu/storage/BioNICs/bionics/biofuzznet/biofuzznet.py:362: UserWarning: Node NFAT is not present in ground truth. Its ground_truth value is not set.\n",
      "  warnings.warn(\n",
      "/home/ubuntu/storage/BioNICs/bionics/biofuzznet/biofuzznet.py:362: UserWarning: Node p38 is not present in ground truth. Its ground_truth value is not set.\n",
      "  warnings.warn(\n",
      "/home/ubuntu/storage/BioNICs/bionics/biofuzznet/biofuzznet.py:362: UserWarning: Node Bcl2 is not present in ground truth. Its ground_truth value is not set.\n",
      "  warnings.warn(\n",
      "/home/ubuntu/storage/BioNICs/bionics/biofuzznet/biofuzznet.py:362: UserWarning: Node BclXL is not present in ground truth. Its ground_truth value is not set.\n",
      "  warnings.warn(\n",
      "/home/ubuntu/storage/BioNICs/bionics/biofuzznet/biofuzznet.py:362: UserWarning: Node NFkB is not present in ground truth. Its ground_truth value is not set.\n",
      "  warnings.warn(\n",
      "/home/ubuntu/storage/BioNICs/bionics/biofuzznet/biofuzznet.py:362: UserWarning: Node IL2 is not present in ground truth. Its ground_truth value is not set.\n",
      "  warnings.warn(\n",
      "/home/ubuntu/storage/BioNICs/bionics/biofuzznet/biofuzznet.py:362: UserWarning: Node TRAF1 is not present in ground truth. Its ground_truth value is not set.\n",
      "  warnings.warn(\n",
      "/home/ubuntu/storage/BioNICs/bionics/biofuzznet/biofuzznet.py:362: UserWarning: Node TRAF2 is not present in ground truth. Its ground_truth value is not set.\n",
      "  warnings.warn(\n",
      "/home/ubuntu/storage/BioNICs/bionics/biofuzznet/biofuzznet.py:362: UserWarning: Node TRAF3 is not present in ground truth. Its ground_truth value is not set.\n",
      "  warnings.warn(\n",
      "/home/ubuntu/storage/BioNICs/bionics/biofuzznet/biofuzznet.py:362: UserWarning: Node ncNFkB is not present in ground truth. Its ground_truth value is not set.\n",
      "  warnings.warn(\n",
      "/home/ubuntu/storage/BioNICs/bionics/biofuzznet/biofuzznet.py:362: UserWarning: Node TRAF6 is not present in ground truth. Its ground_truth value is not set.\n",
      "  warnings.warn(\n",
      "/home/ubuntu/storage/BioNICs/bionics/biofuzznet/biofuzznet.py:362: UserWarning: Node JAK3 is not present in ground truth. Its ground_truth value is not set.\n",
      "  warnings.warn(\n",
      "/home/ubuntu/storage/BioNICs/bionics/biofuzznet/biofuzznet.py:362: UserWarning: Node STAT5 is not present in ground truth. Its ground_truth value is not set.\n",
      "  warnings.warn(\n",
      "/home/ubuntu/storage/BioNICs/bionics/biofuzznet/biofuzznet.py:362: UserWarning: Node TNFa is not present in ground truth. Its ground_truth value is not set.\n",
      "  warnings.warn(\n",
      "/home/ubuntu/storage/BioNICs/bionics/biofuzznet/biofuzznet.py:362: UserWarning: Node IL6 is not present in ground truth. Its ground_truth value is not set.\n",
      "  warnings.warn(\n",
      "/home/ubuntu/storage/BioNICs/bionics/biofuzznet/biofuzznet.py:362: UserWarning: Node IFNG is not present in ground truth. Its ground_truth value is not set.\n",
      "  warnings.warn(\n",
      "/home/ubuntu/storage/BioNICs/bionics/biofuzznet/biofuzznet.py:362: UserWarning: Node PP2A is not present in ground truth. Its ground_truth value is not set.\n",
      "  warnings.warn(\n",
      "/home/ubuntu/storage/BioNICs/bionics/biofuzznet/biofuzznet.py:362: UserWarning: Node SHP2 is not present in ground truth. Its ground_truth value is not set.\n",
      "  warnings.warn(\n",
      "/home/ubuntu/storage/BioNICs/bionics/biofuzznet/biofuzznet.py:362: UserWarning: Node SHP1 is not present in ground truth. Its ground_truth value is not set.\n",
      "  warnings.warn(\n",
      "/home/ubuntu/storage/BioNICs/bionics/biofuzznet/biofuzznet.py:362: UserWarning: Node Shc is not present in ground truth. Its ground_truth value is not set.\n",
      "  warnings.warn(\n",
      "/home/ubuntu/storage/BioNICs/bionics/biofuzznet/biofuzznet.py:362: UserWarning: Node JAK1 is not present in ground truth. Its ground_truth value is not set.\n",
      "  warnings.warn(\n",
      "/home/ubuntu/storage/BioNICs/bionics/biofuzznet/biofuzznet.py:362: UserWarning: Node STAT3 is not present in ground truth. Its ground_truth value is not set.\n",
      "  warnings.warn(\n",
      "/home/ubuntu/storage/BioNICs/bionics/biofuzznet/biofuzznet.py:362: UserWarning: Node cmyc is not present in ground truth. Its ground_truth value is not set.\n",
      "  warnings.warn(\n"
     ]
    }
   ],
   "source": [
    "# That works!\n",
    "# But what if we want to specify a given value as the ground truth?\n",
    "# Let's say that we know the value at the root nodes\n",
    "\n",
    "tensor_list = [torch.ones(3000) for i in range(6)]\n",
    "ground_truth = {my_model.root_nodes[i]: tensor_list[i] for i in range(len(my_model.root_nodes))}\n",
    "\n",
    "# We can set the ground truth at the root nodes \n",
    "my_model.set_network_ground_truth(ground_truth)\n",
    "print(f\"The current output state at node 41BB is {my_model.nodes()['41BB']['output_state']} and the current ground truth is {my_model.nodes()['41BB']['ground_truth']}\")\n",
    "\n",
    "# But careful! The nodes that are not in ground_truth are not modified\n",
    "# (If the warnings were not enough to warn you)\n",
    "# (I do know they get pretty annoying, you can disable them during optimisation ...\n",
    "# ... but I suggest keeping them when you're setting up your network so you are aware of possible misbehaviors)\n",
    "print(f\"The current output state at node ERK12 is {my_model.nodes()['ERK12']['output_state']} and the current ground truth is {my_model.nodes()['ERK12']['ground_truth']}\")\n"
   ]
  },
  {
   "cell_type": "code",
   "execution_count": null,
   "metadata": {},
   "outputs": [],
   "source": [
    "# Let's now simulate our model\n",
    "# For that you need to tell it what nodes you give as input\n",
    "# Here it's easy, there's no cycle, it's just the root nodes\n",
    "\n",
    "my_model.sequential_update(my_model.root_nodes)"
   ]
  },
  {
   "cell_type": "code",
   "execution_count": null,
   "metadata": {},
   "outputs": [
    {
     "name": "stdout",
     "output_type": "stream",
     "text": [
      "The current output state at node ERK12 is tensor([0.7758, 0.7758, 0.7758,  ..., 0.7758, 0.7758, 0.7758],\n",
      "       grad_fn=<SubBackward0>) and the current ground truth is tensor([0.4571, 0.9993, 0.1055,  ..., 0.0026, 0.5225, 0.3733])\n"
     ]
    }
   ],
   "source": [
    "# Let's see those results\n",
    "print(f\"The current output state at node ERK12 is {my_model.nodes()['ERK12']['output_state']} and the current ground truth is {my_model.nodes()['ERK12']['ground_truth']}\")\n"
   ]
  },
  {
   "cell_type": "code",
   "execution_count": null,
   "metadata": {},
   "outputs": [],
   "source": [
    "# The simulation did work well: the output state tensor has only one value,\n",
    "#  which makes sense since all 3000 cells had the same value 1 at all inputs\n",
    "# Notice that the ground truth hasn't changed\n",
    "# Which is reassuring, we don't want our measuremets to change when the model is simulated\n",
    "# Now let's try to optimise, shall we?\n"
   ]
  },
  {
   "cell_type": "markdown",
   "metadata": {},
   "source": [
    "# Optimisation of a BioFuzzNet"
   ]
  },
  {
   "cell_type": "code",
   "execution_count": null,
   "metadata": {},
   "outputs": [],
   "source": [
    "# For a measurement, we need input values and ground truth values (ie the values we're trying to fit) \n",
    "# for a training set and a validation set.\n",
    "# Since we simulated earlier, we do have data that's related through the network\n",
    "# We'll just use the first 2000 points as a training dataset, and the last 1000 as a validation dataset\n",
    "# ...\n",
    "# ...\n",
    "# Yes I know it's 3000 times the same datapoint, but this is just a tutorial after all\n",
    "\n",
    "# Let's define the ground truth: it's the result of the previous simulation, so it's already in the output states\n",
    "ground_truth_to_find = my_model.output_states\n",
    "\n",
    "# Let's define the inputs and ground_truth for the training and validation set\n",
    "ground_truth_train = {node: ground_truth_to_find[node][0:2000] for node in ground_truth_to_find.keys()}\n",
    "ground_truth_test = {node: ground_truth_to_find[node][2000:3000] for node in ground_truth_to_find.keys()}\n",
    "\n",
    "# The input is just the ground truth values at the root nodes\n",
    "input_train = {node: ground_truth_train[node] for node in my_model.root_nodes}\n",
    "input_test = {node: ground_truth_test[node] for node in my_model.root_nodes}"
   ]
  },
  {
   "cell_type": "code",
   "execution_count": null,
   "metadata": {},
   "outputs": [],
   "source": [
    "# Then we create a model to optimise: same topology, but different parameters at the transfer function\n",
    "model_to_fit = biofuzznet.BioFuzzNet.build_BioFuzzNet_from_file(\"example_networks/Network_without_GRN.tsv\")"
   ]
  },
  {
   "cell_type": "code",
   "execution_count": null,
   "metadata": {},
   "outputs": [],
   "source": [
    "# Now we just need to specify some optimisation parameters\n",
    "\n",
    "learning_rate = 5e-3\n",
    "epochs = 10 # That seems like a lot, but 1 epoch is basically one simulation of the network on all datapoints, so we need a lot of them\n",
    "batch_size = 300 \n",
    "\n"
   ]
  },
  {
   "cell_type": "code",
   "execution_count": null,
   "metadata": {},
   "outputs": [
    {
     "name": "stderr",
     "output_type": "stream",
     "text": [
      "100%|██████████| 10/10 [04:03<00:00, 24.39s/it]\n"
     ]
    }
   ],
   "source": [
    "# Now let's optimise\n",
    "\n",
    "loss = model_to_fit.conduct_optimisation(input = input_train,\n",
    "                                         ground_truth=ground_truth_train,\n",
    "                                         test_input = input_test,\n",
    "                                         test_ground_truth= ground_truth_test,\n",
    "                                         epochs = epochs, \n",
    "                                         learning_rate= learning_rate,\n",
    "                                         batch_size= batch_size\n",
    "                                         )"
   ]
  },
  {
   "cell_type": "code",
   "execution_count": null,
   "metadata": {},
   "outputs": [
    {
     "data": {
      "text/html": [
       "<div>\n",
       "<style scoped>\n",
       "    .dataframe tbody tr th:only-of-type {\n",
       "        vertical-align: middle;\n",
       "    }\n",
       "\n",
       "    .dataframe tbody tr th {\n",
       "        vertical-align: top;\n",
       "    }\n",
       "\n",
       "    .dataframe thead th {\n",
       "        text-align: right;\n",
       "    }\n",
       "</style>\n",
       "<table border=\"1\" class=\"dataframe\">\n",
       "  <thead>\n",
       "    <tr style=\"text-align: right;\">\n",
       "      <th></th>\n",
       "      <th>time</th>\n",
       "      <th>loss</th>\n",
       "      <th>phase</th>\n",
       "    </tr>\n",
       "  </thead>\n",
       "  <tbody>\n",
       "    <tr>\n",
       "      <th>0</th>\n",
       "      <td>2022-08-25 13:19:18.054019</td>\n",
       "      <td>0.042339</td>\n",
       "      <td>train</td>\n",
       "    </tr>\n",
       "    <tr>\n",
       "      <th>1</th>\n",
       "      <td>2022-08-25 13:19:21.736414</td>\n",
       "      <td>0.04174</td>\n",
       "      <td>train</td>\n",
       "    </tr>\n",
       "    <tr>\n",
       "      <th>2</th>\n",
       "      <td>2022-08-25 13:19:25.259744</td>\n",
       "      <td>0.041156</td>\n",
       "      <td>train</td>\n",
       "    </tr>\n",
       "    <tr>\n",
       "      <th>3</th>\n",
       "      <td>2022-08-25 13:19:28.775930</td>\n",
       "      <td>0.040588</td>\n",
       "      <td>train</td>\n",
       "    </tr>\n",
       "    <tr>\n",
       "      <th>4</th>\n",
       "      <td>2022-08-25 13:19:32.538108</td>\n",
       "      <td>0.040034</td>\n",
       "      <td>train</td>\n",
       "    </tr>\n",
       "    <tr>\n",
       "      <th>...</th>\n",
       "      <td>...</td>\n",
       "      <td>...</td>\n",
       "      <td>...</td>\n",
       "    </tr>\n",
       "    <tr>\n",
       "      <th>75</th>\n",
       "      <td>2022-08-25 13:23:08.765010</td>\n",
       "      <td>0.019819</td>\n",
       "      <td>train</td>\n",
       "    </tr>\n",
       "    <tr>\n",
       "      <th>76</th>\n",
       "      <td>2022-08-25 13:23:12.232929</td>\n",
       "      <td>0.019598</td>\n",
       "      <td>train</td>\n",
       "    </tr>\n",
       "    <tr>\n",
       "      <th>77</th>\n",
       "      <td>2022-08-25 13:23:15.851125</td>\n",
       "      <td>0.019378</td>\n",
       "      <td>train</td>\n",
       "    </tr>\n",
       "    <tr>\n",
       "      <th>78</th>\n",
       "      <td>2022-08-25 13:23:18.338104</td>\n",
       "      <td>0.01916</td>\n",
       "      <td>train</td>\n",
       "    </tr>\n",
       "    <tr>\n",
       "      <th>79</th>\n",
       "      <td>2022-08-25 13:23:18.441396</td>\n",
       "      <td>0.018944</td>\n",
       "      <td>test</td>\n",
       "    </tr>\n",
       "  </tbody>\n",
       "</table>\n",
       "<p>80 rows × 3 columns</p>\n",
       "</div>"
      ],
      "text/plain": [
       "                          time      loss  phase\n",
       "0   2022-08-25 13:19:18.054019  0.042339  train\n",
       "1   2022-08-25 13:19:21.736414   0.04174  train\n",
       "2   2022-08-25 13:19:25.259744  0.041156  train\n",
       "3   2022-08-25 13:19:28.775930  0.040588  train\n",
       "4   2022-08-25 13:19:32.538108  0.040034  train\n",
       "..                         ...       ...    ...\n",
       "75  2022-08-25 13:23:08.765010  0.019819  train\n",
       "76  2022-08-25 13:23:12.232929  0.019598  train\n",
       "77  2022-08-25 13:23:15.851125  0.019378  train\n",
       "78  2022-08-25 13:23:18.338104   0.01916  train\n",
       "79  2022-08-25 13:23:18.441396  0.018944   test\n",
       "\n",
       "[80 rows x 3 columns]"
      ]
     },
     "execution_count": 26,
     "metadata": {},
     "output_type": "execute_result"
    }
   ],
   "source": [
    "# You gte the loss as the output of the optimisation\n",
    "loss"
   ]
  },
  {
   "cell_type": "code",
   "execution_count": null,
   "metadata": {},
   "outputs": [
    {
     "data": {
      "image/png": "[encoded data removed]",
      "text/plain": [
       "<Figure size 432x288 with 1 Axes>"
      ]
     },
     "metadata": {
      "needs_background": "light"
     },
     "output_type": "display_data"
    }
   ],
   "source": [
    "# You can plot it to check that it converges\n",
    "# It probably won't because we did very few epochs\n",
    "sns.lineplot(data=loss, x=\"time\", y=\"loss\", hue=\"phase\")\n",
    "plt.show()"
   ]
  },
  {
   "cell_type": "code",
   "execution_count": null,
   "metadata": {},
   "outputs": [],
   "source": [
    "# If you do enough epochs the loss should converge and you should have a model that fits your data\n",
    "# To simulate using this model, you just need to go through the simulation part of the model\n",
    "# Keep the parameters that you obtained after optimisation\n",
    "# Feed in the inputs, and simulate!\n",
    "# I suggest you try it by yourself on a simpler model that you can run for several 100 of epochs in an acceptable time"
   ]
  },
  {
   "cell_type": "markdown",
   "metadata": {},
   "source": [
    "# What about BioMixNets?"
   ]
  },
  {
   "cell_type": "code",
   "execution_count": null,
   "metadata": {},
   "outputs": [
    {
     "name": "stdout",
     "output_type": "stream",
     "text": [
      "[{'node_type': 'logic_gate_MIXED', 'output_state': None, 'gate': MixedGate()}, {'node_type': 'logic_gate_MIXED', 'output_state': None, 'gate': MixedGate()}, {'node_type': 'logic_gate_MIXED', 'output_state': None, 'gate': MixedGate()}, {'node_type': 'logic_gate_MIXED', 'output_state': None, 'gate': MixedGate()}, {'node_type': 'logic_gate_MIXED', 'output_state': None, 'gate': MixedGate()}, {'node_type': 'logic_gate_MIXED', 'output_state': None, 'gate': MixedGate()}, {'node_type': 'logic_gate_MIXED', 'output_state': None, 'gate': MixedGate()}, {'node_type': 'logic_gate_MIXED', 'output_state': None, 'gate': MixedGate()}, {'node_type': 'logic_gate_MIXED', 'output_state': None, 'gate': MixedGate()}]\n"
     ]
    }
   ],
   "source": [
    "# It's exactly the same process\n",
    "# Except you have an additinal type of gates; the MIXED gate\n",
    "# That has a parameter determining if it's an AND gate, an OR gate, or a mix of the 2 (not good if that happens after optimisation)\n",
    "\n",
    "BMN = biomixnet.BioMixNet.build_BioMixNet_from_file(\"example_networks/manual_network_reduced.tsv\")\n",
    "# Careful; they're called or, but they're actually mixed\n",
    "BMN.mixed_gates\n",
    "print([BMN.nodes()[m] for m in BMN.mixed_gates])"
   ]
  },
  {
   "cell_type": "code",
   "execution_count": null,
   "metadata": {},
   "outputs": [
    {
     "name": "stdout",
     "output_type": "stream",
     "text": [
      "This is the value of the AND parameter at gate or1: 0.5. Do not forget that it needs to go through a sigmoid.\n"
     ]
    }
   ],
   "source": [
    "# And this is how you access the gate parameter\n",
    "print(f\"This is the value of the AND parameter at gate or1: {torch.sigmoid(BMN.nodes()['or1']['gate'].AND_param)}. Do not forget that it needs to go through a sigmoid.\")"
   ]
  },
  {
   "cell_type": "code",
   "execution_count": null,
   "metadata": {},
   "outputs": [],
   "source": [
    "bi# If the gate parameter is close to 1, then the predicted gate is an AND gate\n",
    "# If the gate parameter is close to 0, then the predicted gate is an OR gate\n",
    "# Else: then we have a problem\n",
    "# Here it's 0.5 because we have not optimised the network yet"
   ]
  },
  {
   "cell_type": "markdown",
   "metadata": {},
   "source": [
    "# THE END\n",
    "\n",
    "I think that's it. Good luck with the BioFuzzNet module!"
   ]
  },
  {
   "cell_type": "code",
   "execution_count": null,
   "metadata": {},
   "outputs": [],
   "source": []
  }
 ],
 "metadata": {
  "kernelspec": {
   "display_name": "Python 3.10.4 ('biofuzznet_dev')",
   "language": "python",
   "name": "python3"
  },
  "language_info": {
   "codemirror_mode": {
    "name": "ipython",
    "version": 3
   },
   "file_extension": ".py",
   "mimetype": "text/x-python",
   "name": "python",
   "nbconvert_exporter": "python",
   "pygments_lexer": "ipython3",
   "version": "3.10.4"
  },
  "orig_nbformat": 4,
  "vscode": {
   "interpreter": {
    "hash": "26b79d7d9af3d05309cd8b9deb65e0bbd2ea5b62e3f1127ec6dd51c9d3b3b61b"
   }
  }
 },
 "nbformat": 4,
 "nbformat_minor": 2
}
